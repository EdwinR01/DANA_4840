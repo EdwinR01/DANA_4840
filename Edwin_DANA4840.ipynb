{
 "cells": [
  {
   "cell_type": "code",
   "execution_count": 15,
   "id": "initial_id",
   "metadata": {
    "collapsed": true,
    "ExecuteTime": {
     "end_time": "2024-02-26T05:46:30.919132200Z",
     "start_time": "2024-02-26T05:46:30.908374Z"
    }
   },
   "outputs": [],
   "source": [
    "import pandas as pd\n",
    "from joblib import Parallel, delayed\n",
    "from sklearn.decomposition import PCA\n",
    "from sklearn.preprocessing import StandardScaler\n",
    "from sklearn.model_selection import train_test_split\n",
    "#kmeans\n",
    "from sklearn.cluster import KMeans\n",
    "import time\n"
   ]
  },
  {
   "cell_type": "code",
   "execution_count": 5,
   "outputs": [],
   "source": [
    "df=pd.read_csv(\"C:/Users/pctes/Downloads/DANA_PROJECTS/DANA_4840/data_2.csv\")\n",
    "df_labels=pd.read_csv(\"C:/Users/pctes/Downloads/DANA_PROJECTS/DANA_4840/labels.csv\")"
   ],
   "metadata": {
    "collapsed": false,
    "ExecuteTime": {
     "end_time": "2024-02-26T05:05:20.429375200Z",
     "start_time": "2024-02-26T05:05:15.245890100Z"
    }
   },
   "id": "fbee901356935ed7"
  },
  {
   "cell_type": "code",
   "execution_count": 9,
   "outputs": [
    {
     "data": {
      "text/plain": "  Unnamed: 0  gene_0    gene_1    gene_2    gene_3     gene_4  gene_5  \\\n0   sample_0     0.0  2.017209  3.265527  5.478487  10.431999     0.0   \n1   sample_1     0.0  0.592732  1.588421  7.586157   9.623011     0.0   \n2   sample_2     0.0  3.511759  4.327199  6.881787   9.870730     0.0   \n3   sample_3     0.0  3.663618  4.507649  6.659068  10.196184     0.0   \n4   sample_4     0.0  2.655741  2.821547  6.539454   9.738265     0.0   \n\n     gene_6    gene_7  gene_8  ...  gene_20521  gene_20522  gene_20523  \\\n0  7.175175  0.591871     0.0  ...    4.926711    8.210257    9.723516   \n1  6.816049  0.000000     0.0  ...    4.593372    7.323865    9.740931   \n2  6.972130  0.452595     0.0  ...    5.125213    8.127123   10.908640   \n3  7.843375  0.434882     0.0  ...    6.076566    8.792959   10.141520   \n4  6.566967  0.360982     0.0  ...    5.996032    8.891425   10.373790   \n\n   gene_20524  gene_20525  gene_20526  gene_20527  gene_20528  gene_20529  \\\n0    7.220030    9.119813   12.003135    9.650743    8.921326    5.286759   \n1    6.256586    8.381612   12.674552   10.517059    9.397854    2.094168   \n2    5.401607    9.911597    9.045255    9.788359   10.090470    1.683023   \n3    8.942805    9.601208   11.392682    9.694814    9.684365    3.292001   \n4    7.181162    9.846910   11.922439    9.217749    9.461191    5.110372   \n\n   gene_20530  \n0         0.0  \n1         0.0  \n2         0.0  \n3         0.0  \n4         0.0  \n\n[5 rows x 20532 columns]",
      "text/html": "<div>\n<style scoped>\n    .dataframe tbody tr th:only-of-type {\n        vertical-align: middle;\n    }\n\n    .dataframe tbody tr th {\n        vertical-align: top;\n    }\n\n    .dataframe thead th {\n        text-align: right;\n    }\n</style>\n<table border=\"1\" class=\"dataframe\">\n  <thead>\n    <tr style=\"text-align: right;\">\n      <th></th>\n      <th>Unnamed: 0</th>\n      <th>gene_0</th>\n      <th>gene_1</th>\n      <th>gene_2</th>\n      <th>gene_3</th>\n      <th>gene_4</th>\n      <th>gene_5</th>\n      <th>gene_6</th>\n      <th>gene_7</th>\n      <th>gene_8</th>\n      <th>...</th>\n      <th>gene_20521</th>\n      <th>gene_20522</th>\n      <th>gene_20523</th>\n      <th>gene_20524</th>\n      <th>gene_20525</th>\n      <th>gene_20526</th>\n      <th>gene_20527</th>\n      <th>gene_20528</th>\n      <th>gene_20529</th>\n      <th>gene_20530</th>\n    </tr>\n  </thead>\n  <tbody>\n    <tr>\n      <th>0</th>\n      <td>sample_0</td>\n      <td>0.0</td>\n      <td>2.017209</td>\n      <td>3.265527</td>\n      <td>5.478487</td>\n      <td>10.431999</td>\n      <td>0.0</td>\n      <td>7.175175</td>\n      <td>0.591871</td>\n      <td>0.0</td>\n      <td>...</td>\n      <td>4.926711</td>\n      <td>8.210257</td>\n      <td>9.723516</td>\n      <td>7.220030</td>\n      <td>9.119813</td>\n      <td>12.003135</td>\n      <td>9.650743</td>\n      <td>8.921326</td>\n      <td>5.286759</td>\n      <td>0.0</td>\n    </tr>\n    <tr>\n      <th>1</th>\n      <td>sample_1</td>\n      <td>0.0</td>\n      <td>0.592732</td>\n      <td>1.588421</td>\n      <td>7.586157</td>\n      <td>9.623011</td>\n      <td>0.0</td>\n      <td>6.816049</td>\n      <td>0.000000</td>\n      <td>0.0</td>\n      <td>...</td>\n      <td>4.593372</td>\n      <td>7.323865</td>\n      <td>9.740931</td>\n      <td>6.256586</td>\n      <td>8.381612</td>\n      <td>12.674552</td>\n      <td>10.517059</td>\n      <td>9.397854</td>\n      <td>2.094168</td>\n      <td>0.0</td>\n    </tr>\n    <tr>\n      <th>2</th>\n      <td>sample_2</td>\n      <td>0.0</td>\n      <td>3.511759</td>\n      <td>4.327199</td>\n      <td>6.881787</td>\n      <td>9.870730</td>\n      <td>0.0</td>\n      <td>6.972130</td>\n      <td>0.452595</td>\n      <td>0.0</td>\n      <td>...</td>\n      <td>5.125213</td>\n      <td>8.127123</td>\n      <td>10.908640</td>\n      <td>5.401607</td>\n      <td>9.911597</td>\n      <td>9.045255</td>\n      <td>9.788359</td>\n      <td>10.090470</td>\n      <td>1.683023</td>\n      <td>0.0</td>\n    </tr>\n    <tr>\n      <th>3</th>\n      <td>sample_3</td>\n      <td>0.0</td>\n      <td>3.663618</td>\n      <td>4.507649</td>\n      <td>6.659068</td>\n      <td>10.196184</td>\n      <td>0.0</td>\n      <td>7.843375</td>\n      <td>0.434882</td>\n      <td>0.0</td>\n      <td>...</td>\n      <td>6.076566</td>\n      <td>8.792959</td>\n      <td>10.141520</td>\n      <td>8.942805</td>\n      <td>9.601208</td>\n      <td>11.392682</td>\n      <td>9.694814</td>\n      <td>9.684365</td>\n      <td>3.292001</td>\n      <td>0.0</td>\n    </tr>\n    <tr>\n      <th>4</th>\n      <td>sample_4</td>\n      <td>0.0</td>\n      <td>2.655741</td>\n      <td>2.821547</td>\n      <td>6.539454</td>\n      <td>9.738265</td>\n      <td>0.0</td>\n      <td>6.566967</td>\n      <td>0.360982</td>\n      <td>0.0</td>\n      <td>...</td>\n      <td>5.996032</td>\n      <td>8.891425</td>\n      <td>10.373790</td>\n      <td>7.181162</td>\n      <td>9.846910</td>\n      <td>11.922439</td>\n      <td>9.217749</td>\n      <td>9.461191</td>\n      <td>5.110372</td>\n      <td>0.0</td>\n    </tr>\n  </tbody>\n</table>\n<p>5 rows × 20532 columns</p>\n</div>"
     },
     "execution_count": 9,
     "metadata": {},
     "output_type": "execute_result"
    }
   ],
   "source": [
    "df.head() "
   ],
   "metadata": {
    "collapsed": false,
    "ExecuteTime": {
     "end_time": "2024-02-26T05:05:36.140907400Z",
     "start_time": "2024-02-26T05:05:36.117534400Z"
    }
   },
   "id": "c042abb07a595d66"
  },
  {
   "cell_type": "code",
   "execution_count": 22,
   "outputs": [
    {
     "data": {
      "text/plain": "           gene_0      gene_1      gene_2      gene_3      gene_4  gene_5  \\\ncount  801.000000  801.000000  801.000000  801.000000  801.000000   801.0   \nmean     0.026642    3.010909    3.095350    6.722305    9.813612     0.0   \nstd      0.136850    1.200828    1.065601    0.638819    0.506537     0.0   \nmin      0.000000    0.000000    0.000000    5.009284    8.435999     0.0   \n25%      0.000000    2.299039    2.390365    6.303346    9.464466     0.0   \n50%      0.000000    3.143687    3.127006    6.655893    9.791599     0.0   \n75%      0.000000    3.883484    3.802534    7.038447   10.142324     0.0   \nmax      1.482332    6.237034    6.063484   10.129528   11.355621     0.0   \n\n           gene_6      gene_7      gene_8      gene_9  ...  gene_20521  \\\ncount  801.000000  801.000000  801.000000  801.000000  ...  801.000000   \nmean     7.405509    0.499882    0.016744    0.013428  ...    5.896573   \nstd      1.108237    0.508799    0.133635    0.204722  ...    0.746399   \nmin      3.930747    0.000000    0.000000    0.000000  ...    2.853517   \n25%      6.676042    0.000000    0.000000    0.000000  ...    5.454926   \n50%      7.450114    0.443076    0.000000    0.000000  ...    5.972582   \n75%      8.121984    0.789354    0.000000    0.000000  ...    6.411292   \nmax     10.718190    2.779008    1.785592    4.067604  ...    7.771054   \n\n       gene_20522  gene_20523  gene_20524  gene_20525  gene_20526  gene_20527  \\\ncount  801.000000  801.000000  801.000000  801.000000  801.000000  801.000000   \nmean     8.765891   10.056252    4.847727    9.741987   11.742228   10.155271   \nstd      0.603176    0.379278    2.382728    0.533898    0.670371    0.580569   \nmin      6.678368    8.669456    0.000000    7.974942    9.045255    7.530141   \n25%      8.383834    9.826027    3.130750    9.400747   11.315857    9.836525   \n50%      8.784144   10.066385    5.444935    9.784524   11.749802   10.191207   \n75%      9.147136   10.299025    6.637412   10.082269   12.177852   10.578561   \nmax     11.105431   11.318243    9.207495   11.811632   13.715361   11.675653   \n\n       gene_20528  gene_20529  gene_20530  \ncount  801.000000  801.000000  801.000000  \nmean     9.590726    5.528177    0.095411  \nstd      0.563849    2.073859    0.364529  \nmin      7.864533    0.593975    0.000000  \n25%      9.244219    4.092385    0.000000  \n50%      9.566511    5.218618    0.000000  \n75%      9.917888    6.876382    0.000000  \nmax     12.813320   11.205836    5.254133  \n\n[8 rows x 20531 columns]",
      "text/html": "<div>\n<style scoped>\n    .dataframe tbody tr th:only-of-type {\n        vertical-align: middle;\n    }\n\n    .dataframe tbody tr th {\n        vertical-align: top;\n    }\n\n    .dataframe thead th {\n        text-align: right;\n    }\n</style>\n<table border=\"1\" class=\"dataframe\">\n  <thead>\n    <tr style=\"text-align: right;\">\n      <th></th>\n      <th>gene_0</th>\n      <th>gene_1</th>\n      <th>gene_2</th>\n      <th>gene_3</th>\n      <th>gene_4</th>\n      <th>gene_5</th>\n      <th>gene_6</th>\n      <th>gene_7</th>\n      <th>gene_8</th>\n      <th>gene_9</th>\n      <th>...</th>\n      <th>gene_20521</th>\n      <th>gene_20522</th>\n      <th>gene_20523</th>\n      <th>gene_20524</th>\n      <th>gene_20525</th>\n      <th>gene_20526</th>\n      <th>gene_20527</th>\n      <th>gene_20528</th>\n      <th>gene_20529</th>\n      <th>gene_20530</th>\n    </tr>\n  </thead>\n  <tbody>\n    <tr>\n      <th>count</th>\n      <td>801.000000</td>\n      <td>801.000000</td>\n      <td>801.000000</td>\n      <td>801.000000</td>\n      <td>801.000000</td>\n      <td>801.0</td>\n      <td>801.000000</td>\n      <td>801.000000</td>\n      <td>801.000000</td>\n      <td>801.000000</td>\n      <td>...</td>\n      <td>801.000000</td>\n      <td>801.000000</td>\n      <td>801.000000</td>\n      <td>801.000000</td>\n      <td>801.000000</td>\n      <td>801.000000</td>\n      <td>801.000000</td>\n      <td>801.000000</td>\n      <td>801.000000</td>\n      <td>801.000000</td>\n    </tr>\n    <tr>\n      <th>mean</th>\n      <td>0.026642</td>\n      <td>3.010909</td>\n      <td>3.095350</td>\n      <td>6.722305</td>\n      <td>9.813612</td>\n      <td>0.0</td>\n      <td>7.405509</td>\n      <td>0.499882</td>\n      <td>0.016744</td>\n      <td>0.013428</td>\n      <td>...</td>\n      <td>5.896573</td>\n      <td>8.765891</td>\n      <td>10.056252</td>\n      <td>4.847727</td>\n      <td>9.741987</td>\n      <td>11.742228</td>\n      <td>10.155271</td>\n      <td>9.590726</td>\n      <td>5.528177</td>\n      <td>0.095411</td>\n    </tr>\n    <tr>\n      <th>std</th>\n      <td>0.136850</td>\n      <td>1.200828</td>\n      <td>1.065601</td>\n      <td>0.638819</td>\n      <td>0.506537</td>\n      <td>0.0</td>\n      <td>1.108237</td>\n      <td>0.508799</td>\n      <td>0.133635</td>\n      <td>0.204722</td>\n      <td>...</td>\n      <td>0.746399</td>\n      <td>0.603176</td>\n      <td>0.379278</td>\n      <td>2.382728</td>\n      <td>0.533898</td>\n      <td>0.670371</td>\n      <td>0.580569</td>\n      <td>0.563849</td>\n      <td>2.073859</td>\n      <td>0.364529</td>\n    </tr>\n    <tr>\n      <th>min</th>\n      <td>0.000000</td>\n      <td>0.000000</td>\n      <td>0.000000</td>\n      <td>5.009284</td>\n      <td>8.435999</td>\n      <td>0.0</td>\n      <td>3.930747</td>\n      <td>0.000000</td>\n      <td>0.000000</td>\n      <td>0.000000</td>\n      <td>...</td>\n      <td>2.853517</td>\n      <td>6.678368</td>\n      <td>8.669456</td>\n      <td>0.000000</td>\n      <td>7.974942</td>\n      <td>9.045255</td>\n      <td>7.530141</td>\n      <td>7.864533</td>\n      <td>0.593975</td>\n      <td>0.000000</td>\n    </tr>\n    <tr>\n      <th>25%</th>\n      <td>0.000000</td>\n      <td>2.299039</td>\n      <td>2.390365</td>\n      <td>6.303346</td>\n      <td>9.464466</td>\n      <td>0.0</td>\n      <td>6.676042</td>\n      <td>0.000000</td>\n      <td>0.000000</td>\n      <td>0.000000</td>\n      <td>...</td>\n      <td>5.454926</td>\n      <td>8.383834</td>\n      <td>9.826027</td>\n      <td>3.130750</td>\n      <td>9.400747</td>\n      <td>11.315857</td>\n      <td>9.836525</td>\n      <td>9.244219</td>\n      <td>4.092385</td>\n      <td>0.000000</td>\n    </tr>\n    <tr>\n      <th>50%</th>\n      <td>0.000000</td>\n      <td>3.143687</td>\n      <td>3.127006</td>\n      <td>6.655893</td>\n      <td>9.791599</td>\n      <td>0.0</td>\n      <td>7.450114</td>\n      <td>0.443076</td>\n      <td>0.000000</td>\n      <td>0.000000</td>\n      <td>...</td>\n      <td>5.972582</td>\n      <td>8.784144</td>\n      <td>10.066385</td>\n      <td>5.444935</td>\n      <td>9.784524</td>\n      <td>11.749802</td>\n      <td>10.191207</td>\n      <td>9.566511</td>\n      <td>5.218618</td>\n      <td>0.000000</td>\n    </tr>\n    <tr>\n      <th>75%</th>\n      <td>0.000000</td>\n      <td>3.883484</td>\n      <td>3.802534</td>\n      <td>7.038447</td>\n      <td>10.142324</td>\n      <td>0.0</td>\n      <td>8.121984</td>\n      <td>0.789354</td>\n      <td>0.000000</td>\n      <td>0.000000</td>\n      <td>...</td>\n      <td>6.411292</td>\n      <td>9.147136</td>\n      <td>10.299025</td>\n      <td>6.637412</td>\n      <td>10.082269</td>\n      <td>12.177852</td>\n      <td>10.578561</td>\n      <td>9.917888</td>\n      <td>6.876382</td>\n      <td>0.000000</td>\n    </tr>\n    <tr>\n      <th>max</th>\n      <td>1.482332</td>\n      <td>6.237034</td>\n      <td>6.063484</td>\n      <td>10.129528</td>\n      <td>11.355621</td>\n      <td>0.0</td>\n      <td>10.718190</td>\n      <td>2.779008</td>\n      <td>1.785592</td>\n      <td>4.067604</td>\n      <td>...</td>\n      <td>7.771054</td>\n      <td>11.105431</td>\n      <td>11.318243</td>\n      <td>9.207495</td>\n      <td>11.811632</td>\n      <td>13.715361</td>\n      <td>11.675653</td>\n      <td>12.813320</td>\n      <td>11.205836</td>\n      <td>5.254133</td>\n    </tr>\n  </tbody>\n</table>\n<p>8 rows × 20531 columns</p>\n</div>"
     },
     "execution_count": 22,
     "metadata": {},
     "output_type": "execute_result"
    }
   ],
   "source": [
    "df.describe()"
   ],
   "metadata": {
    "collapsed": false,
    "ExecuteTime": {
     "end_time": "2024-02-26T05:54:37.540307700Z",
     "start_time": "2024-02-26T05:54:16.489857800Z"
    }
   },
   "id": "fe7a77a8c7c10f7e"
  },
  {
   "cell_type": "code",
   "execution_count": 48,
   "outputs": [],
   "source": [
    "# Scale the data\n",
    "scaler = StandardScaler()\n",
    "scaled_data=scaler.fit_transform(df.iloc[:,1:])\n"
   ],
   "metadata": {
    "collapsed": false,
    "ExecuteTime": {
     "end_time": "2024-02-26T06:00:40.713380Z",
     "start_time": "2024-02-26T06:00:40.237192800Z"
    }
   },
   "id": "8ed01856b471187b"
  },
  {
   "cell_type": "code",
   "execution_count": 49,
   "outputs": [],
   "source": [
    "df_scaled=pd.DataFrame(scaled_data,columns=df.columns[1:])\n"
   ],
   "metadata": {
    "collapsed": false,
    "ExecuteTime": {
     "end_time": "2024-02-26T06:00:50.304686300Z",
     "start_time": "2024-02-26T06:00:50.293449100Z"
    }
   },
   "id": "d2d8d9f821199421"
  },
  {
   "cell_type": "code",
   "execution_count": 50,
   "outputs": [
    {
     "data": {
      "text/plain": "     gene_0    gene_1    gene_2    gene_3    gene_4  gene_5    gene_6  \\\n0 -0.194799 -0.828030  0.159800 -1.948277  1.221575     0.0 -0.207968   \n1 -0.194799 -2.015017 -1.415042  1.353109 -0.376518     0.0 -0.532222   \n2 -0.194799  0.417348  1.156735  0.249807  0.112832     0.0 -0.391297   \n3 -0.194799  0.543888  1.326182 -0.099053  0.755741     0.0  0.395348   \n4 -0.194799 -0.295955 -0.257107 -0.286413 -0.148843     0.0 -0.757118   \n\n     gene_7    gene_8    gene_9  ...  gene_20521  gene_20522  gene_20523  \\\n0  0.180910 -0.125376 -0.065633  ...   -1.300200   -0.921755   -0.877838   \n1 -0.983088 -0.125376 -0.065633  ...   -1.747076   -2.392213   -0.831893   \n2 -0.092995 -0.125376 -0.065633  ...   -1.034088   -1.059669    2.248803   \n3 -0.127831 -0.125376 -0.065633  ...    0.241299    0.044905    0.224956   \n4 -0.273165 -0.125376 -0.065633  ...    0.133335    0.208252    0.837739   \n\n   gene_20524  gene_20525  gene_20526  gene_20527  gene_20528  gene_20529  \\\n0    0.996247   -1.166072    0.389441   -0.869566   -1.187938   -0.116483   \n1    0.591649   -2.549598    1.391628    0.623551   -0.342277   -1.656889   \n2    0.232601    0.317880   -4.025621   -0.632381    0.886860   -1.855264   \n3    1.719725   -0.263847   -0.521747   -0.793609    0.166174   -1.078941   \n4    0.979924    0.196645    0.268992   -1.615841   -0.229878   -0.201588   \n\n   gene_20530  \n0   -0.261901  \n1   -0.261901  \n2   -0.261901  \n3   -0.261901  \n4   -0.261901  \n\n[5 rows x 20531 columns]",
      "text/html": "<div>\n<style scoped>\n    .dataframe tbody tr th:only-of-type {\n        vertical-align: middle;\n    }\n\n    .dataframe tbody tr th {\n        vertical-align: top;\n    }\n\n    .dataframe thead th {\n        text-align: right;\n    }\n</style>\n<table border=\"1\" class=\"dataframe\">\n  <thead>\n    <tr style=\"text-align: right;\">\n      <th></th>\n      <th>gene_0</th>\n      <th>gene_1</th>\n      <th>gene_2</th>\n      <th>gene_3</th>\n      <th>gene_4</th>\n      <th>gene_5</th>\n      <th>gene_6</th>\n      <th>gene_7</th>\n      <th>gene_8</th>\n      <th>gene_9</th>\n      <th>...</th>\n      <th>gene_20521</th>\n      <th>gene_20522</th>\n      <th>gene_20523</th>\n      <th>gene_20524</th>\n      <th>gene_20525</th>\n      <th>gene_20526</th>\n      <th>gene_20527</th>\n      <th>gene_20528</th>\n      <th>gene_20529</th>\n      <th>gene_20530</th>\n    </tr>\n  </thead>\n  <tbody>\n    <tr>\n      <th>0</th>\n      <td>-0.194799</td>\n      <td>-0.828030</td>\n      <td>0.159800</td>\n      <td>-1.948277</td>\n      <td>1.221575</td>\n      <td>0.0</td>\n      <td>-0.207968</td>\n      <td>0.180910</td>\n      <td>-0.125376</td>\n      <td>-0.065633</td>\n      <td>...</td>\n      <td>-1.300200</td>\n      <td>-0.921755</td>\n      <td>-0.877838</td>\n      <td>0.996247</td>\n      <td>-1.166072</td>\n      <td>0.389441</td>\n      <td>-0.869566</td>\n      <td>-1.187938</td>\n      <td>-0.116483</td>\n      <td>-0.261901</td>\n    </tr>\n    <tr>\n      <th>1</th>\n      <td>-0.194799</td>\n      <td>-2.015017</td>\n      <td>-1.415042</td>\n      <td>1.353109</td>\n      <td>-0.376518</td>\n      <td>0.0</td>\n      <td>-0.532222</td>\n      <td>-0.983088</td>\n      <td>-0.125376</td>\n      <td>-0.065633</td>\n      <td>...</td>\n      <td>-1.747076</td>\n      <td>-2.392213</td>\n      <td>-0.831893</td>\n      <td>0.591649</td>\n      <td>-2.549598</td>\n      <td>1.391628</td>\n      <td>0.623551</td>\n      <td>-0.342277</td>\n      <td>-1.656889</td>\n      <td>-0.261901</td>\n    </tr>\n    <tr>\n      <th>2</th>\n      <td>-0.194799</td>\n      <td>0.417348</td>\n      <td>1.156735</td>\n      <td>0.249807</td>\n      <td>0.112832</td>\n      <td>0.0</td>\n      <td>-0.391297</td>\n      <td>-0.092995</td>\n      <td>-0.125376</td>\n      <td>-0.065633</td>\n      <td>...</td>\n      <td>-1.034088</td>\n      <td>-1.059669</td>\n      <td>2.248803</td>\n      <td>0.232601</td>\n      <td>0.317880</td>\n      <td>-4.025621</td>\n      <td>-0.632381</td>\n      <td>0.886860</td>\n      <td>-1.855264</td>\n      <td>-0.261901</td>\n    </tr>\n    <tr>\n      <th>3</th>\n      <td>-0.194799</td>\n      <td>0.543888</td>\n      <td>1.326182</td>\n      <td>-0.099053</td>\n      <td>0.755741</td>\n      <td>0.0</td>\n      <td>0.395348</td>\n      <td>-0.127831</td>\n      <td>-0.125376</td>\n      <td>-0.065633</td>\n      <td>...</td>\n      <td>0.241299</td>\n      <td>0.044905</td>\n      <td>0.224956</td>\n      <td>1.719725</td>\n      <td>-0.263847</td>\n      <td>-0.521747</td>\n      <td>-0.793609</td>\n      <td>0.166174</td>\n      <td>-1.078941</td>\n      <td>-0.261901</td>\n    </tr>\n    <tr>\n      <th>4</th>\n      <td>-0.194799</td>\n      <td>-0.295955</td>\n      <td>-0.257107</td>\n      <td>-0.286413</td>\n      <td>-0.148843</td>\n      <td>0.0</td>\n      <td>-0.757118</td>\n      <td>-0.273165</td>\n      <td>-0.125376</td>\n      <td>-0.065633</td>\n      <td>...</td>\n      <td>0.133335</td>\n      <td>0.208252</td>\n      <td>0.837739</td>\n      <td>0.979924</td>\n      <td>0.196645</td>\n      <td>0.268992</td>\n      <td>-1.615841</td>\n      <td>-0.229878</td>\n      <td>-0.201588</td>\n      <td>-0.261901</td>\n    </tr>\n  </tbody>\n</table>\n<p>5 rows × 20531 columns</p>\n</div>"
     },
     "execution_count": 50,
     "metadata": {},
     "output_type": "execute_result"
    }
   ],
   "source": [
    "df_scaled.head(b)"
   ],
   "metadata": {
    "collapsed": false,
    "ExecuteTime": {
     "end_time": "2024-02-26T06:01:00.706124400Z",
     "start_time": "2024-02-26T06:01:00.684042600Z"
    }
   },
   "id": "7475f431d0439e3a"
  },
  {
   "cell_type": "code",
   "execution_count": 56,
   "outputs": [
    {
     "name": "stdout",
     "output_type": "stream",
     "text": [
      "['PRAD', 'LUAD', 'BRCA', 'KIRC', 'COAD']\n"
     ]
    }
   ],
   "source": [
    "# Labels  5 classes: BRCA, KIRC, COAD, LUAD, and PRAD\n",
    "classes_labels=df_labels[\"Class\"].unique().tolist()\n",
    "print(classes_labels)"
   ],
   "metadata": {
    "collapsed": false,
    "ExecuteTime": {
     "end_time": "2024-02-26T06:14:30.242020900Z",
     "start_time": "2024-02-26T06:14:30.226722900Z"
    }
   },
   "id": "e3c4904759bde3fd"
  },
  {
   "cell_type": "code",
   "execution_count": null,
   "outputs": [],
   "source": [
    "# PCA\n",
    "pca = PCA(n_components=5)\n",
    "principalComponents = pca.fit_transform(df_scaled)\n"
   ],
   "metadata": {
    "collapsed": false
   },
   "id": "587bac265546ca27"
  }
 ],
 "metadata": {
  "kernelspec": {
   "display_name": "Python 3",
   "language": "python",
   "name": "python3"
  },
  "language_info": {
   "codemirror_mode": {
    "name": "ipython",
    "version": 2
   },
   "file_extension": ".py",
   "mimetype": "text/x-python",
   "name": "python",
   "nbconvert_exporter": "python",
   "pygments_lexer": "ipython2",
   "version": "2.7.6"
  }
 },
 "nbformat": 4,
 "nbformat_minor": 5
}
